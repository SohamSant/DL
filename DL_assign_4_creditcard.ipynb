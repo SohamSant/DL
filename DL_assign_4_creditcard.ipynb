{
 "cells": [
  {
   "cell_type": "markdown",
   "id": "b1f7ce6b-b19d-47f3-b087-df39fe2cae35",
   "metadata": {},
   "source": [
    "4. Use Autoencoder to implement anomaly detection. Build the model by using:\n",
    "<br>\n",
    "a. Import required libraries\n",
    "<br>\n",
    "b. Upload / access the dataset\n",
    "<br>\n",
    "c. Encoder converts it into latent representation\n",
    "<br>\n",
    "d. Decoder networks convert it back to the original input\n",
    "<br>\n",
    "e. Compile the models with Optimizer, Loss, and Evaluation Metrics"
   ]
  },
  {
   "cell_type": "markdown",
   "id": "4c00db1b-510e-4be2-b7fa-7f4b917387cc",
   "metadata": {},
   "source": [
    "#### a. Import required libraries"
   ]
  },
  {
   "cell_type": "code",
   "execution_count": 1,
   "id": "0b97d058-72df-4249-90ee-cb7bb9c1e4f7",
   "metadata": {
    "tags": []
   },
   "outputs": [],
   "source": [
    "import numpy as np\n",
    "import pandas as pd\n",
    "import tensorflow as tf\n",
    "from sklearn.model_selection import train_test_split\n",
    "from sklearn.preprocessing import StandardScaler\n",
    "from sklearn.metrics import confusion_matrix, classification_report\n",
    "import matplotlib.pyplot as plt\n",
    "from tensorflow.keras import layers, models"
   ]
  },
  {
   "cell_type": "markdown",
   "id": "631080f5-eaa8-496d-8038-03b313412308",
   "metadata": {},
   "source": [
    "#### b. Upload / access the dataset"
   ]
  },
  {
   "cell_type": "code",
   "execution_count": 2,
   "id": "33e90e2c-0ad4-4707-ade0-6e50f507ddaf",
   "metadata": {
    "tags": []
   },
   "outputs": [],
   "source": [
    "dataset = pd.read_csv(\"Datasets/creditcardfraud-csv/creditcard.csv\")"
   ]
  },
  {
   "cell_type": "code",
   "execution_count": 3,
   "id": "f93bb331-3742-4e20-936b-02c186e7b71e",
   "metadata": {
    "tags": []
   },
   "outputs": [],
   "source": [
    "# Preprocess the data (if needed)\n",
    "# You may need to normalize the data, handle missing values, etc.\n",
    "# For simplicity, we'll perform normalization in this example\n",
    "# Normalize the data to have a mean of 0 and a standard deviation of 1\n",
    "scaler = StandardScaler()\n",
    "X = scaler.fit_transform(dataset.drop(\"Class\", axis=1))\n",
    "y = dataset[\"Class\"]"
   ]
  },
  {
   "cell_type": "code",
   "execution_count": 4,
   "id": "f9e75748-d8c7-4894-b904-b34b2a9c950c",
   "metadata": {
    "tags": []
   },
   "outputs": [],
   "source": [
    "# Split the dataset into training and testing sets\n",
    "X_train, X_test, y_train, y_test = train_test_split(X, y, test_size=0.2, random_state=42)"
   ]
  },
  {
   "cell_type": "code",
   "execution_count": 5,
   "id": "a0df5402-7054-485c-b786-2110d880c5d3",
   "metadata": {
    "tags": []
   },
   "outputs": [],
   "source": [
    "# Build and train the Autoencoder model\n",
    "input_dim = X_train.shape[1]"
   ]
  },
  {
   "cell_type": "markdown",
   "id": "3af4d5b3-30b6-4906-b2d6-21ed703fa39d",
   "metadata": {},
   "source": [
    "#### c. Encoder converts it into latent representation"
   ]
  },
  {
   "cell_type": "code",
   "execution_count": 6,
   "id": "22bf7701-1969-4780-a3a6-0dcbdb2176a3",
   "metadata": {
    "tags": []
   },
   "outputs": [],
   "source": [
    "# Encoder\n",
    "encoder = models.Sequential([\n",
    "    layers.Input(shape=(input_dim,)),\n",
    "    layers.Dense(32, activation='relu'),\n",
    "    layers.Dense(16, activation='relu')\n",
    "])"
   ]
  },
  {
   "cell_type": "markdown",
   "id": "5fca6200-eea4-4ac7-b93e-046e4f7c4e8c",
   "metadata": {},
   "source": [
    "#### d. Decoder networks convert it back to the original input"
   ]
  },
  {
   "cell_type": "code",
   "execution_count": 7,
   "id": "292c2935-1ec3-4428-b31d-7644a87eb851",
   "metadata": {
    "tags": []
   },
   "outputs": [],
   "source": [
    "# Decoder\n",
    "decoder = models.Sequential([\n",
    "    layers.Input(shape=(16,)),\n",
    "    layers.Dense(32, activation='relu'),\n",
    "    layers.Dense(input_dim, activation='linear')  # Using 'linear' activation for reconstruction\n",
    "])\n",
    "\n",
    "# Autoencoder\n",
    "autoencoder = models.Sequential([\n",
    "    encoder,\n",
    "    decoder\n",
    "])"
   ]
  },
  {
   "cell_type": "markdown",
   "id": "8a0eb4a3-7b8f-4e20-885e-403a39eef3d6",
   "metadata": {},
   "source": [
    "#### e. Compile the models with Optimizer, Loss, and Evaluation Metrics"
   ]
  },
  {
   "cell_type": "code",
   "execution_count": 8,
   "id": "8d321ea9-cd1c-40a8-aed9-259635703eab",
   "metadata": {
    "tags": []
   },
   "outputs": [
    {
     "name": "stdout",
     "output_type": "stream",
     "text": [
      "Epoch 1/10\n",
      "7121/7121 [==============================] - 25s 3ms/step - loss: 0.3485 - val_loss: 0.2174\n",
      "Epoch 2/10\n",
      "7121/7121 [==============================] - 19s 3ms/step - loss: 0.1864 - val_loss: 0.1603\n",
      "Epoch 3/10\n",
      "7121/7121 [==============================] - 20s 3ms/step - loss: 0.1494 - val_loss: 0.1280\n",
      "Epoch 4/10\n",
      "7121/7121 [==============================] - 21s 3ms/step - loss: 0.1230 - val_loss: 0.1097\n",
      "Epoch 5/10\n",
      "7121/7121 [==============================] - 21s 3ms/step - loss: 0.1045 - val_loss: 0.0939\n",
      "Epoch 6/10\n",
      "7121/7121 [==============================] - 19s 3ms/step - loss: 0.0956 - val_loss: 0.0891\n",
      "Epoch 7/10\n",
      "7121/7121 [==============================] - 20s 3ms/step - loss: 0.0912 - val_loss: 0.0865\n",
      "Epoch 8/10\n",
      "7121/7121 [==============================] - 20s 3ms/step - loss: 0.0869 - val_loss: 0.0768\n",
      "Epoch 9/10\n",
      "7121/7121 [==============================] - 18s 3ms/step - loss: 0.0755 - val_loss: 0.0610\n",
      "Epoch 10/10\n",
      "7121/7121 [==============================] - 18s 3ms/step - loss: 0.0661 - val_loss: 0.0636\n"
     ]
    },
    {
     "data": {
      "text/plain": [
       "<keras.callbacks.History at 0x1b94b139940>"
      ]
     },
     "execution_count": 8,
     "metadata": {},
     "output_type": "execute_result"
    }
   ],
   "source": [
    "autoencoder.compile(optimizer='adam', loss='mean_squared_error')\n",
    "autoencoder.fit(X_train, X_train, epochs=10, batch_size=32, shuffle=True, validation_data=(X_test, X_test))"
   ]
  },
  {
   "cell_type": "code",
   "execution_count": 9,
   "id": "60a334b6-e167-4686-96cb-7675c5f56294",
   "metadata": {
    "tags": []
   },
   "outputs": [
    {
     "name": "stdout",
     "output_type": "stream",
     "text": [
      "1781/1781 [==============================] - 2s 869us/step\n"
     ]
    }
   ],
   "source": [
    "# Detect anomalies and tune the threshold\n",
    "y_pred = autoencoder.predict(X_test)\n",
    "mse = np.mean(np.power(X_test - y_pred, 2), axis=1)"
   ]
  },
  {
   "cell_type": "code",
   "execution_count": 10,
   "id": "b0e3ecc6-2559-4880-b9a2-26cce58c4701",
   "metadata": {
    "tags": []
   },
   "outputs": [
    {
     "data": {
      "image/png": "[encoded data removed]",
      "text/plain": [
       "<Figure size 1000x600 with 1 Axes>"
      ]
     },
     "metadata": {},
     "output_type": "display_data"
    }
   ],
   "source": [
    "# Visualize the reconstruction error distribution\n",
    "plt.figure(figsize=(10, 6))\n",
    "plt.hist(mse, bins=50, alpha=0.5, color='b', label='Reconstruction Error')\n",
    "plt.xlabel(\"Reconstruction Error\")\n",
    "plt.ylabel(\"Frequency\")\n",
    "plt.legend()\n",
    "plt.title(\"Reconstruction Error Distribution\")\n",
    "plt.show()"
   ]
  },
  {
   "cell_type": "code",
   "execution_count": 11,
   "id": "d618bb8f-c71b-4e2d-b7cd-3909adb74606",
   "metadata": {
    "tags": []
   },
   "outputs": [],
   "source": [
    "# Threshold tuning (iterate and adjust as needed)\n",
    "thresholds = np.arange(0.1, 1.0, 0.1)  # Adjust the step size as needed\n",
    "\n",
    "for threshold in thresholds:\n",
    "    anomalies = mse > threshold"
   ]
  },
  {
   "cell_type": "code",
   "execution_count": 12,
   "id": "1682f9ba-c549-4a1f-821d-bd4c88896083",
   "metadata": {
    "tags": []
   },
   "outputs": [
    {
     "name": "stdout",
     "output_type": "stream",
     "text": [
      "Threshold: 0.9, Number of anomalies: 356\n"
     ]
    }
   ],
   "source": [
    "# Count the number of anomalies\n",
    "num_anomalies = np.sum(anomalies)\n",
    "print(f\"Threshold: {threshold:.1f}, Number of anomalies: {num_anomalies}\")"
   ]
  },
  {
   "cell_type": "code",
   "execution_count": 13,
   "id": "d2aa8d80-f484-40f9-a5db-83f98de97f5c",
   "metadata": {
    "tags": []
   },
   "outputs": [
    {
     "name": "stdout",
     "output_type": "stream",
     "text": [
      "Confusion Matrix:\n",
      "[[56546   318]\n",
      " [   60    38]]\n",
      "\n",
      "Classification Report:\n",
      "              precision    recall  f1-score   support\n",
      "\n",
      "           0       1.00      0.99      1.00     56864\n",
      "           1       0.11      0.39      0.17        98\n",
      "\n",
      "    accuracy                           0.99     56962\n",
      "   macro avg       0.55      0.69      0.58     56962\n",
      "weighted avg       1.00      0.99      1.00     56962\n",
      "\n"
     ]
    }
   ],
   "source": [
    "# Evaluate the model\n",
    "print(\"Confusion Matrix:\")\n",
    "print(confusion_matrix(y_test, anomalies))\n",
    "\n",
    "print(\"\\nClassification Report:\")\n",
    "print(classification_report(y_test, anomalies))"
   ]
  },
  {
   "cell_type": "code",
   "execution_count": 14,
   "id": "b33a2ab7-9bf9-457a-b7b0-e81933597855",
   "metadata": {},
   "outputs": [
    {
     "ename": "ModuleNotFoundError",
     "evalue": "No module named 'seaborn'",
     "output_type": "error",
     "traceback": [
      "\u001b[1;31m---------------------------------------------------------------------------\u001b[0m",
      "\u001b[1;31mModuleNotFoundError\u001b[0m                       Traceback (most recent call last)",
      "Cell \u001b[1;32mIn[14], line 1\u001b[0m\n\u001b[1;32m----> 1\u001b[0m \u001b[38;5;28;01mimport\u001b[39;00m \u001b[38;5;21;01mseaborn\u001b[39;00m \u001b[38;5;28;01mas\u001b[39;00m \u001b[38;5;21;01msns\u001b[39;00m\n",
      "\u001b[1;31mModuleNotFoundError\u001b[0m: No module named 'seaborn'"
     ]
    }
   ],
   "source": [
    "import seaborn as sns"
   ]
  },
  {
   "cell_type": "code",
   "execution_count": 19,
   "id": "885f4da8-6be1-40e6-8848-517a9e7b6091",
   "metadata": {},
   "outputs": [
    {
     "data": {
      "image/png": "[encoded data removed]",
      "text/plain": [
       "<Figure size 600x475 with 2 Axes>"
      ]
     },
     "metadata": {},
     "output_type": "display_data"
    }
   ],
   "source": [
    "plt.figure(figsize = (6, 4.75))\n",
    "sns.heatmap(confusion_matrix(y_test, anomalies), annot = True, annot_kws = {\"size\": 16}, fmt = 'd')\n",
    "plt.xticks([0.5, 1.5],  rotation = 'horizontal')\n",
    "plt.yticks([0.5, 1.5],  rotation = 'horizontal')\n",
    "plt.xlabel(\"Predicted label\", fontsize = 14)\n",
    "plt.ylabel(\"True label\", fontsize = 14)\n",
    "plt.title(\"Confusion Matrix\", fontsize = 14)\n",
    "plt.grid(False)\n",
    "plt.show()"
   ]
  }
 ],
 "metadata": {
  "kernelspec": {
   "display_name": "tf",
   "language": "python",
   "name": "python3"
  },
  "language_info": {
   "codemirror_mode": {
    "name": "ipython",
    "version": 3
   },
   "file_extension": ".py",
   "mimetype": "text/x-python",
   "name": "python",
   "nbconvert_exporter": "python",
   "pygments_lexer": "ipython3",
   "version": "3.9.19"
  }
 },
 "nbformat": 4,
 "nbformat_minor": 5
}
