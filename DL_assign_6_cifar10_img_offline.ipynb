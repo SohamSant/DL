{
 "cells": [
  {
   "cell_type": "code",
   "execution_count": 5,
   "id": "31c2e651-8075-41a1-b996-30bca14f1627",
   "metadata": {},
   "outputs": [],
   "source": [
    "import tensorflow as tf\n",
    "from tensorflow import keras\n",
    "from tensorflow.keras.applications import VGG16\n",
    "from tensorflow.keras.models import Model\n",
    "from tensorflow.keras.layers import Dense, Flatten\n",
    "from tensorflow.keras.optimizers import Adam\n",
    "from tensorflow.keras.preprocessing.image import ImageDataGenerator\n",
    "import numpy as np"
   ]
  },
  {
   "cell_type": "markdown",
   "id": "203d03af-e7eb-406f-b9dc-9dad72072a3f",
   "metadata": {},
   "source": [
    "#### Pre processing img data "
   ]
  },
  {
   "cell_type": "code",
   "execution_count": 6,
   "id": "bae4a153-6f00-4265-add9-35904409dd72",
   "metadata": {},
   "outputs": [
    {
     "name": "stdout",
     "output_type": "stream",
     "text": [
      "Found 40079 images belonging to 10 classes.\n",
      "Found 9921 images belonging to 10 classes.\n"
     ]
    }
   ],
   "source": [
    "train_dir = \"Datasets/cifar-10-img/train\"\n",
    "test_dir = \"Datasets/cifar-10-img/test\"\n",
    "\n",
    "train_datagen = ImageDataGenerator(\n",
    "    rescale=1.0 / 255,\n",
    ")\n",
    "\n",
    "test_datagen = ImageDataGenerator(\n",
    "    rescale=1.0 / 255,\n",
    ")\n",
    "\n",
    "# here batch_size is the number of images in each batch\n",
    "train_batch_size = 5000\n",
    "train_generator = train_datagen.flow_from_directory(\n",
    "    train_dir,\n",
    "    target_size=(32, 32),\n",
    "    batch_size=train_batch_size,\n",
    "    class_mode='categorical'\n",
    ")\n",
    "test_batch_size = 1000\n",
    "test_generator = test_datagen.flow_from_directory(\n",
    "    test_dir,\n",
    "    target_size=(32, 32),\n",
    "    batch_size=test_batch_size,\n",
    "    class_mode='categorical'\n",
    ")"
   ]
  },
  {
   "cell_type": "markdown",
   "id": "4609c200-c5fc-4067-b3b3-bd8b7226e27d",
   "metadata": {},
   "source": [
    "#### Selecting only first batch with 5000 images as train and test data"
   ]
  },
  {
   "cell_type": "code",
   "execution_count": 7,
   "id": "b4369f09-67f5-4f91-a6f2-971ed179dea9",
   "metadata": {},
   "outputs": [
    {
     "name": "stdout",
     "output_type": "stream",
     "text": [
      "5000\n",
      "1000\n"
     ]
    }
   ],
   "source": [
    "x_train, y_train =  train_generator[0]\n",
    "x_test, y_test = test_generator[0]\n",
    "\n",
    "print(len(x_train))\n",
    "print(len(x_test))"
   ]
  },
  {
   "cell_type": "markdown",
   "id": "9db56097-894f-44a2-8b54-8241acd0dea9",
   "metadata": {},
   "source": [
    "#### a. Load in a pre-trained CNN model trained on a large dataset"
   ]
  },
  {
   "cell_type": "code",
   "execution_count": 8,
   "id": "3e80ede0-af89-4fd0-b431-191d5f6401d4",
   "metadata": {},
   "outputs": [],
   "source": [
    "# Load VGG16 without top layers\n",
    "weights_path = \"Datasets/vgg16_weights_tf_dim_ordering_tf_kernels_notop.h5\"\n",
    "base_model = VGG16(weights=weights_path, include_top=False, input_shape=(32, 32, 3))"
   ]
  },
  {
   "cell_type": "markdown",
   "id": "8dfc0b6a-99ae-4197-aae2-288d54241ce4",
   "metadata": {},
   "source": [
    "#### b. Freeze parameters (weights) in model’s lower convolutional layers"
   ]
  },
  {
   "cell_type": "code",
   "execution_count": 9,
   "id": "b64173b6-f973-416d-95a5-bfb158f9aa11",
   "metadata": {},
   "outputs": [],
   "source": [
    "for layer in base_model.layers:\n",
    "   layer.trainable = False"
   ]
  },
  {
   "cell_type": "markdown",
   "id": "324ff8f4-4cb4-451e-a72b-3f35ee41f600",
   "metadata": {},
   "source": [
    "#### c. Add custom classifier with several layers of trainable parameters to model"
   ]
  },
  {
   "cell_type": "code",
   "execution_count": 10,
   "id": "e44e9909-36b2-48cb-8470-1e6648a229a2",
   "metadata": {},
   "outputs": [],
   "source": [
    "x = Flatten()(base_model.output)\n",
    "x = Dense(256, activation='relu')(x)\n",
    "x = tf.keras.layers.Dropout(0.3)(x)\n",
    "x = Dense(256, activation='relu')(x)\n",
    "x = tf.keras.layers.Dropout(0.3)(x)\n",
    "predictions = Dense(10, activation='softmax')(x)\n",
    "\n",
    "# Create the model\n",
    "model = Model(inputs=base_model.input, outputs=predictions)\n",
    "# Compile the model\n",
    "model.compile(optimizer=\"adam\", loss='categorical_crossentropy', metrics=['accuracy'])"
   ]
  },
  {
   "cell_type": "markdown",
   "id": "af0aac27-8b92-4f9d-a43a-af5633d440b8",
   "metadata": {},
   "source": [
    "#### d. Train classifier layers on training data available for task"
   ]
  },
  {
   "cell_type": "code",
   "execution_count": 11,
   "id": "3ce936f9-8497-4be8-877b-63d8f7c27885",
   "metadata": {},
   "outputs": [
    {
     "name": "stdout",
     "output_type": "stream",
     "text": [
      "Epoch 1/10\n",
      "79/79 [==============================] - 8s 25ms/step - loss: 1.9804 - accuracy: 0.2870 - val_loss: 1.6177 - val_accuracy: 0.4480\n",
      "Epoch 2/10\n",
      "79/79 [==============================] - 1s 13ms/step - loss: 1.5928 - accuracy: 0.4342 - val_loss: 1.4361 - val_accuracy: 0.4820\n",
      "Epoch 3/10\n",
      "79/79 [==============================] - 1s 13ms/step - loss: 1.4683 - accuracy: 0.4744 - val_loss: 1.3534 - val_accuracy: 0.5010\n",
      "Epoch 4/10\n",
      "79/79 [==============================] - 1s 12ms/step - loss: 1.3546 - accuracy: 0.5226 - val_loss: 1.3088 - val_accuracy: 0.5340\n",
      "Epoch 5/10\n",
      "79/79 [==============================] - 1s 12ms/step - loss: 1.2987 - accuracy: 0.5472 - val_loss: 1.2667 - val_accuracy: 0.5370\n",
      "Epoch 6/10\n",
      "79/79 [==============================] - 1s 13ms/step - loss: 1.2443 - accuracy: 0.5664 - val_loss: 1.2508 - val_accuracy: 0.5520\n",
      "Epoch 7/10\n",
      "79/79 [==============================] - 1s 13ms/step - loss: 1.1961 - accuracy: 0.5792 - val_loss: 1.2421 - val_accuracy: 0.5600\n",
      "Epoch 8/10\n",
      "79/79 [==============================] - 1s 14ms/step - loss: 1.1488 - accuracy: 0.5968 - val_loss: 1.2163 - val_accuracy: 0.5710\n",
      "Epoch 9/10\n",
      "79/79 [==============================] - 1s 13ms/step - loss: 1.1082 - accuracy: 0.6078 - val_loss: 1.2359 - val_accuracy: 0.5520\n",
      "Epoch 10/10\n",
      "79/79 [==============================] - 1s 13ms/step - loss: 1.0694 - accuracy: 0.6228 - val_loss: 1.2394 - val_accuracy: 0.5610\n"
     ]
    },
    {
     "data": {
      "text/plain": [
       "<keras.callbacks.History at 0x10fb63053a0>"
      ]
     },
     "execution_count": 11,
     "metadata": {},
     "output_type": "execute_result"
    }
   ],
   "source": [
    "# Train the model\n",
    "model.fit(x_train, y_train, batch_size=64, epochs=10, validation_data=(x_test, y_test))"
   ]
  },
  {
   "cell_type": "markdown",
   "id": "521fc40f-4c47-462f-8965-9026bdb98edb",
   "metadata": {},
   "source": [
    "#### e. Fine-tune hyper parameters and unfreeze more layers as needed"
   ]
  },
  {
   "cell_type": "code",
   "execution_count": 12,
   "id": "c1d6efc6-3209-4586-8947-385a0120f861",
   "metadata": {},
   "outputs": [
    {
     "name": "stdout",
     "output_type": "stream",
     "text": [
      "Epoch 1/10\n",
      "79/79 [==============================] - 3s 19ms/step - loss: 1.9629 - accuracy: 0.2448 - val_loss: 1.7465 - val_accuracy: 0.4210\n",
      "Epoch 2/10\n",
      "79/79 [==============================] - 1s 16ms/step - loss: 1.3539 - accuracy: 0.5102 - val_loss: 1.1587 - val_accuracy: 0.5800\n",
      "Epoch 3/10\n",
      "79/79 [==============================] - 1s 17ms/step - loss: 1.0823 - accuracy: 0.6266 - val_loss: 1.1635 - val_accuracy: 0.6060\n",
      "Epoch 4/10\n",
      "79/79 [==============================] - 1s 16ms/step - loss: 0.9447 - accuracy: 0.6854 - val_loss: 1.1963 - val_accuracy: 0.5960\n",
      "Epoch 5/10\n",
      "79/79 [==============================] - 1s 16ms/step - loss: 0.8191 - accuracy: 0.7270 - val_loss: 1.0476 - val_accuracy: 0.6500\n",
      "Epoch 6/10\n",
      "79/79 [==============================] - 1s 15ms/step - loss: 0.6763 - accuracy: 0.7752 - val_loss: 1.1138 - val_accuracy: 0.6400\n",
      "Epoch 7/10\n",
      "79/79 [==============================] - 1s 15ms/step - loss: 0.6204 - accuracy: 0.7950 - val_loss: 1.2926 - val_accuracy: 0.6180\n",
      "Epoch 8/10\n",
      "79/79 [==============================] - 1s 15ms/step - loss: 0.4773 - accuracy: 0.8406 - val_loss: 1.4545 - val_accuracy: 0.6210\n",
      "Epoch 9/10\n",
      "79/79 [==============================] - 1s 15ms/step - loss: 0.4642 - accuracy: 0.8470 - val_loss: 1.3742 - val_accuracy: 0.6310\n",
      "Epoch 10/10\n",
      "79/79 [==============================] - 1s 15ms/step - loss: 0.3523 - accuracy: 0.8860 - val_loss: 1.3794 - val_accuracy: 0.6470\n"
     ]
    },
    {
     "data": {
      "text/plain": [
       "<keras.callbacks.History at 0x10fd3e03b80>"
      ]
     },
     "execution_count": 12,
     "metadata": {},
     "output_type": "execute_result"
    }
   ],
   "source": [
    "base_model = VGG16(weights=weights_path, include_top=False, input_shape=(32, 32, 3))\n",
    "# freeze all layers first\n",
    "for layer in base_model.layers:\n",
    "   layer.trainable = False\n",
    "# unfreeze last 4 layers of base model\n",
    "for layer in base_model.layers[len(base_model.layers) - 4:]:\n",
    "   layer.trainable = True\n",
    "# fine-tuning hyper parameters\n",
    "x = Flatten()(base_model.output)\n",
    "x = Dense(256, activation='relu')(x)\n",
    "x = tf.keras.layers.Dropout(0.3)(x)\n",
    "x = Dense(512, activation='relu')(x)\n",
    "x = tf.keras.layers.Dropout(0.3)(x)\n",
    "predictions = Dense(10, activation='softmax')(x)\n",
    "\n",
    "# Create the model\n",
    "model = Model(inputs=base_model.input, outputs=predictions)\n",
    "# Compile the model\n",
    "model.compile(optimizer=Adam(learning_rate=0.001), loss='categorical_crossentropy', metrics=['accuracy'])\n",
    "# training fine tuned model\n",
    "model.fit(x_train, y_train, batch_size=64, epochs=10, validation_data=(x_test, y_test))"
   ]
  },
  {
   "cell_type": "code",
   "execution_count": 13,
   "id": "fc035871-ca9a-4c0e-9204-d999e14c53c8",
   "metadata": {},
   "outputs": [
    {
     "name": "stdout",
     "output_type": "stream",
     "text": [
      "32/32 [==============================] - 1s 6ms/step\n"
     ]
    }
   ],
   "source": [
    "import matplotlib.pyplot as plt\n",
    "predicted_value = model.predict(x_test)"
   ]
  },
  {
   "cell_type": "code",
   "execution_count": 14,
   "id": "3637d2e8-05ea-4e4d-a38b-b2c1ca6c76be",
   "metadata": {},
   "outputs": [],
   "source": [
    "labels = list(test_generator.class_indices.keys())"
   ]
  },
  {
   "cell_type": "code",
   "execution_count": 15,
   "id": "6d4825f5-8e54-47a9-ab3b-57e55c9d11f4",
   "metadata": {},
   "outputs": [
    {
     "name": "stdout",
     "output_type": "stream",
     "text": [
      "Preditcted:  bird\n",
      "Actual:  deer\n"
     ]
    },
    {
     "data": {
      "image/png": "[encoded data removed]",
      "text/plain": [
       "<Figure size 640x480 with 1 Axes>"
      ]
     },
     "metadata": {},
     "output_type": "display_data"
    }
   ],
   "source": [
    "n = 890\n",
    "plt.imshow(x_test[n])\n",
    "print(\"Preditcted: \",labels[np.argmax(predicted_value[n])])\n",
    "print(\"Actual: \", labels[np.argmax(y_test[n])])"
   ]
  }
 ],
 "metadata": {
  "kernelspec": {
   "display_name": "tf",
   "language": "python",
   "name": "python3"
  },
  "language_info": {
   "codemirror_mode": {
    "name": "ipython",
    "version": 3
   },
   "file_extension": ".py",
   "mimetype": "text/x-python",
   "name": "python",
   "nbconvert_exporter": "python",
   "pygments_lexer": "ipython3",
   "version": "3.9.19"
  }
 },
 "nbformat": 4,
 "nbformat_minor": 5
}
